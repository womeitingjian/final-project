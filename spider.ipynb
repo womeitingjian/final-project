{
 "cells": [
  {
   "cell_type": "code",
   "execution_count": 1,
   "metadata": {},
   "outputs": [],
   "source": [
    "import requests\n",
    "import json\n",
    "import re\n",
    "import openpyxl as exl"
   ]
  },
  {
   "cell_type": "code",
   "execution_count": 2,
   "metadata": {},
   "outputs": [],
   "source": [
    "headers = {\n",
    "    'User-Agent': 'Mozilla/5.0 (Windows NT 10.0; Win64; x64) AppleWebKit/537.36 (KHTML, like Gecko) Chrome/124.0.0.0 Safari/537.36 Edg/124.0.0.0',\n",
    "}"
   ]
  },
  {
   "cell_type": "code",
   "execution_count": 3,
   "metadata": {},
   "outputs": [],
   "source": [
    "url = 'https://www.worldometers.info/coronavirus/usa/california/#graph-cases-daily'\n",
    "base_response = requests.get(url=url,headers=headers)\n",
    "base_response.encoding = \"UTF-8\"\n",
    "data = base_response.text\n",
    "date_data= re.compile(r'categories: (.*)(\\s+)},\\n\\n')\n",
    "date_list_data = re.search(date_data,data).group()\n",
    "date_list_data = date_list_data[12:-12]\n",
    "date_list = re.findall(r'\"(.+?)\"', date_list_data)"
   ]
  },
  {
   "cell_type": "code",
   "execution_count": 4,
   "metadata": {},
   "outputs": [],
   "source": [
    "all_number = re.compile(r' data: (.*)]')\n",
    "all_number_data = re.findall(all_number,data)\n",
    "all_number_data[0] = all_number_data[0][1:-1]\n",
    "all_number_data[2] = all_number_data[2][1:-1]\n",
    "all_number_data[5] = all_number_data[5][1:-1]\n",
    "all_number_data[6] = all_number_data[8][1:-1]\n",
    "all_number_data[9] = all_number_data[9][1:-1]\n",
    "total_cases_number = all_number_data[0].split(\",\")\n",
    "Cases_per_Day = all_number_data[2].split(\",\")\n",
    "Cases_per_Day_3_day_moving_average = all_number_data[3].split(\",\")\n",
    "Active_Cases = all_number_data[5].split(\",\")\n",
    "Total_Deaths = all_number_data[6].split(\",\")\n",
    "Daily_Deaths = all_number_data[8].split(\",\")\n",
    "Daily_Deaths_3_day_moving_average = all_number_data[9].split(\",\")"
   ]
  },
  {
   "cell_type": "code",
   "execution_count": 5,
   "metadata": {},
   "outputs": [],
   "source": [
    "workbook = exl.Workbook()\n",
    "total_cases_sheet = workbook.create_sheet(title='Total Cases')\n",
    "total_cases_sheet.cell(row=1,column=1,value='Date')\n",
    "total_cases_sheet.cell(row=1,column=2,value='Total Cases')\n",
    "Cases_per_Day_sheet = workbook.create_sheet(title='Cases per Day')\n",
    "Cases_per_Day_sheet.cell(row=1,column=1,value='Date')\n",
    "Cases_per_Day_sheet.cell(row=1,column=2,value='Cases per Day')\n",
    "Cases_per_Day_sheet.cell(row=1,column=3,value='3 day moving average')\n",
    "Active_Cases_sheet = workbook.create_sheet(title='Active Cases')\n",
    "Active_Cases_sheet.cell(row=1,column=1,value='Date')\n",
    "Active_Cases_sheet.cell(row=1,column=2,value='Active Cases')\n",
    "Total_Deaths_sheet = workbook.create_sheet(title='Total Deaths')\n",
    "Total_Deaths_sheet.cell(row=1,column=1,value='Date')\n",
    "Total_Deaths_sheet.cell(row=1,column=2,value='Total Deaths')\n",
    "Daily_Deaths_sheet = workbook.create_sheet(title='Daily Deaths')\n",
    "Daily_Deaths_sheet.cell(row=1,column=1,value='Date')\n",
    "Daily_Deaths_sheet.cell(row=1,column=2,value='Daily Deaths')\n",
    "Daily_Deaths_sheet.cell(row=1,column=3,value='3 day moving average')\n",
    "del workbook['Sheet']\n",
    "for i in range(len(date_list)):\n",
    "    total_cases_sheet.cell(row=i+2, column=1,value=date_list[i])\n",
    "    total_cases_sheet.cell(row=i+2, column=2,value=total_cases_number[i])\n",
    "    Cases_per_Day_sheet.cell(row=i+2, column=1, value=date_list[i])\n",
    "    Cases_per_Day_sheet.cell(row=i+2, column=2,value=Cases_per_Day[i])\n",
    "    Cases_per_Day_sheet.cell(row=i+2, column=3,value=Cases_per_Day_3_day_moving_average[i])\n",
    "    Active_Cases_sheet.cell(row=i+2, column=1,value=date_list[i])\n",
    "    Active_Cases_sheet.cell(row=i+2, column=2,value=Active_Cases[i])\n",
    "    Total_Deaths_sheet.cell(row=i+2, column=1,value=date_list[i])\n",
    "    Total_Deaths_sheet.cell(row=i+2, column=2,value=Total_Deaths[i])\n",
    "    Daily_Deaths_sheet.cell(row=i+2, column=1,value=date_list[i])\n",
    "    Daily_Deaths_sheet.cell(row=i+2, column=2,value=Daily_Deaths[i])\n",
    "    Daily_Deaths_sheet.cell(row=i+2, column=3,value=Daily_Deaths_3_day_moving_average[i])\n",
    "workbook.save('covid_data.xlsx')"
   ]
  },
  {
   "cell_type": "code",
   "execution_count": 7,
   "metadata": {},
   "outputs": [],
   "source": [
    "from spire.xls import *\n",
    "from spire.xls.common import *\n",
    " \n",
    "workbook = Workbook()\n",
    "workbook.LoadFromFile('covid_data.xlsx')\n",
    " \n",
    "sheet = workbook.Worksheets[0]\n",
    " \n",
    "sheet.SaveToFile('covid_data.txt', '  ', Encoding.get_UTF8())\n",
    " \n",
    "workbook.Dispose()"
   ]
  },
  {
   "cell_type": "code",
   "execution_count": null,
   "metadata": {},
   "outputs": [],
   "source": []
  }
 ],
 "metadata": {
  "kernelspec": {
   "display_name": "py3.9",
   "language": "python",
   "name": "py3.9"
  },
  "language_info": {
   "codemirror_mode": {
    "name": "ipython",
    "version": 3
   },
   "file_extension": ".py",
   "mimetype": "text/x-python",
   "name": "python",
   "nbconvert_exporter": "python",
   "pygments_lexer": "ipython3",
   "version": "3.9.19"
  }
 },
 "nbformat": 4,
 "nbformat_minor": 4
}
